{
 "cells": [
  {
   "cell_type": "markdown",
   "metadata": {},
   "source": [
    "# Session 2 Exercises\n",
    "\n",
    "This notebook can be **[viewed online here](https://nbviewer.jupyter.org/github/alexmill/techcamp_2019/blob/master/session2_exercises.ipynb)**.\n",
    "\n",
    "For these exercises, choose the lanuage you would like more familiarity with. Recall in Jupyter:\n",
    "- To execute a cell: Shift+Return\n",
    "- To execute a cell while adding a new cell below: Alt+Return\n",
    "\n",
    "## Basics in Python and R \n",
    "\n",
    "For beginners (of either language), I highly recommend working through a set of simple tasks that stretch your understanding of functions, inputs, lists, and iteration (i.e., for loops). Proceed through the following list of tasks:\n",
    "- Write a function that prints \"Hello, World!\"\n"
   ]
  },
  {
   "cell_type": "code",
   "execution_count": 1,
   "metadata": {},
   "outputs": [],
   "source": [
    "def hello():\n",
    "    print(\"hello world!\")"
   ]
  },
  {
   "cell_type": "code",
   "execution_count": 2,
   "metadata": {},
   "outputs": [
    {
     "name": "stdout",
     "output_type": "stream",
     "text": [
      "hello world!\n"
     ]
    }
   ],
   "source": [
    "hello()"
   ]
  },
  {
   "cell_type": "markdown",
   "metadata": {},
   "source": [
    "- Write a function that takes the user's name as input and greets them by name."
   ]
  },
  {
   "cell_type": "code",
   "execution_count": 24,
   "metadata": {},
   "outputs": [],
   "source": [
    "def greeting(first_name):\n",
    "    print(\"Hello, {}!\".format(first_name))"
   ]
  },
  {
   "cell_type": "code",
   "execution_count": 25,
   "metadata": {},
   "outputs": [
    {
     "name": "stdout",
     "output_type": "stream",
     "text": [
      "Hello, Alex!\n"
     ]
    }
   ],
   "source": [
    "greeting(\"Alex\")"
   ]
  },
  {
   "cell_type": "markdown",
   "metadata": {},
   "source": [
    "- Write a function that takes an input n and prints the sum of the numbers 1 to n."
   ]
  },
  {
   "cell_type": "code",
   "execution_count": 2,
   "metadata": {},
   "outputs": [
    {
     "name": "stdout",
     "output_type": "stream",
     "text": [
      "55\n"
     ]
    }
   ],
   "source": [
    "def sum_to_n(n):\n",
    "    output = 0\n",
    "    for num in range(1,n+1):\n",
    "        output = output + num\n",
    "    print(output)\n",
    "\n",
    "sum_to_n(10)"
   ]
  },
  {
   "cell_type": "code",
   "execution_count": 3,
   "metadata": {},
   "outputs": [
    {
     "data": {
      "text/plain": [
       "55"
      ]
     },
     "execution_count": 3,
     "metadata": {},
     "output_type": "execute_result"
    }
   ],
   "source": [
    "# One-liner:\n",
    "n = 10\n",
    "sum(range(1,n+1))"
   ]
  },
  {
   "cell_type": "markdown",
   "metadata": {},
   "source": [
    "- Write a function that returns the largest element in a list."
   ]
  },
  {
   "cell_type": "code",
   "execution_count": 10,
   "metadata": {},
   "outputs": [
    {
     "name": "stdout",
     "output_type": "stream",
     "text": [
      "101\n"
     ]
    }
   ],
   "source": [
    "def find_largest(l):\n",
    "    largest_val = l[0] # Take the first element in the list\n",
    "    for el in l:\n",
    "        if el > largest_val: # If we find a larger value, call it the new largest_val\n",
    "            largest_val = el\n",
    "    print(largest_val)\n",
    "    \n",
    "some_list = [2,101,82,22,9,4,6]\n",
    "find_largest(some_list)"
   ]
  },
  {
   "cell_type": "code",
   "execution_count": 11,
   "metadata": {},
   "outputs": [
    {
     "data": {
      "text/plain": [
       "101"
      ]
     },
     "execution_count": 11,
     "metadata": {},
     "output_type": "execute_result"
    }
   ],
   "source": [
    "# One-liner:\n",
    "max(some_list)"
   ]
  },
  {
   "cell_type": "markdown",
   "metadata": {},
   "source": [
    "- Write a function that returns the elements on odd positions in a list."
   ]
  },
  {
   "cell_type": "code",
   "execution_count": 15,
   "metadata": {},
   "outputs": [
    {
     "data": {
      "text/plain": [
       "[2, 82, 9, 6]"
      ]
     },
     "execution_count": 15,
     "metadata": {},
     "output_type": "execute_result"
    }
   ],
   "source": [
    "def return_odd(l):\n",
    "    output = []\n",
    "    i = 0 # keep track of list indices\n",
    "    for el in l:\n",
    "        if i % 2 == 0:\n",
    "            output.append(el)\n",
    "        i = i + 1 # increment the index by 1\n",
    "    return(output)\n",
    "\n",
    "return_odd(some_list)"
   ]
  },
  {
   "cell_type": "code",
   "execution_count": 16,
   "metadata": {},
   "outputs": [
    {
     "data": {
      "text/plain": [
       "[2, 82, 9, 6]"
      ]
     },
     "execution_count": 16,
     "metadata": {},
     "output_type": "execute_result"
    }
   ],
   "source": [
    "# One-liner:\n",
    "some_list[::2]"
   ]
  },
  {
   "cell_type": "markdown",
   "metadata": {},
   "source": [
    "- Write a function that computes the list of the first 100 [Fibonacci numbers](https://en.wikipedia.org/wiki/Fibonacci_number) .\n",
    "\n"
   ]
  },
  {
   "cell_type": "code",
   "execution_count": 41,
   "metadata": {},
   "outputs": [
    {
     "data": {
      "text/plain": [
       "[1, 1, 2, 2, 4, 4, 8, 8, 16, 16]"
      ]
     },
     "execution_count": 41,
     "metadata": {},
     "output_type": "execute_result"
    }
   ],
   "source": [
    "def fibonacci(N):\n",
    "    fib_nums = [1,1]\n",
    "    \n",
    "    # Keep calculating Fibonacci numbers until list is\n",
    "    # of length N\n",
    "    while len(fib_nums) < N:\n",
    "        a = fib_nums[-2] # second to last fibonacci number in list\n",
    "        b = fib_nums[-2] # last fibonacci number in list\n",
    "        new_fib = a + b\n",
    "        fib_nums.append(new_fib)\n",
    "    \n",
    "    # Once the \"while\" loop completes, \n",
    "    # fib_nums should have N numbers in it\n",
    "    return(fib_nums)\n",
    "\n",
    "fibonacci(10) # just doing 10 to "
   ]
  },
  {
   "cell_type": "code",
   "execution_count": 23,
   "metadata": {},
   "outputs": [
    {
     "data": {
      "text/plain": [
       "[0,\n",
       " 1,\n",
       " 1,\n",
       " 2,\n",
       " 3,\n",
       " 5,\n",
       " 8,\n",
       " 13,\n",
       " 21,\n",
       " 34,\n",
       " 55,\n",
       " 89,\n",
       " 144,\n",
       " 233,\n",
       " 377,\n",
       " 610,\n",
       " 987,\n",
       " 1597,\n",
       " 2584,\n",
       " 4181,\n",
       " 6765,\n",
       " 10946,\n",
       " 17711,\n",
       " 28657,\n",
       " 46368,\n",
       " 75025,\n",
       " 121393,\n",
       " 196418,\n",
       " 317811,\n",
       " 514229,\n",
       " 832040,\n",
       " 1346269,\n",
       " 2178309,\n",
       " 3524578,\n",
       " 5702887,\n",
       " 9227465,\n",
       " 14930352,\n",
       " 24157817,\n",
       " 39088169,\n",
       " 63245986,\n",
       " 102334155,\n",
       " 165580141,\n",
       " 267914296,\n",
       " 433494437,\n",
       " 701408733,\n",
       " 1134903170,\n",
       " 1836311903,\n",
       " 2971215073,\n",
       " 4807526976,\n",
       " 7778742049,\n",
       " 12586269025,\n",
       " 20365011074,\n",
       " 32951280099,\n",
       " 53316291173,\n",
       " 86267571272,\n",
       " 139583862445,\n",
       " 225851433717,\n",
       " 365435296162,\n",
       " 591286729879,\n",
       " 956722026041,\n",
       " 1548008755920,\n",
       " 2504730781961,\n",
       " 4052739537881,\n",
       " 6557470319842,\n",
       " 10610209857723,\n",
       " 17167680177565,\n",
       " 27777890035288,\n",
       " 44945570212853,\n",
       " 72723460248141,\n",
       " 117669030460994,\n",
       " 190392490709135,\n",
       " 308061521170129,\n",
       " 498454011879264,\n",
       " 806515533049393,\n",
       " 1304969544928657,\n",
       " 2111485077978050,\n",
       " 3416454622906707,\n",
       " 5527939700884757,\n",
       " 8944394323791464,\n",
       " 14472334024676221,\n",
       " 23416728348467685,\n",
       " 37889062373143906,\n",
       " 61305790721611591,\n",
       " 99194853094755497,\n",
       " 160500643816367088,\n",
       " 259695496911122585,\n",
       " 420196140727489673,\n",
       " 679891637638612258,\n",
       " 1100087778366101931,\n",
       " 1779979416004714189,\n",
       " 2880067194370816120,\n",
       " 4660046610375530309,\n",
       " 7540113804746346429,\n",
       " 12200160415121876738,\n",
       " 19740274219868223167,\n",
       " 31940434634990099905,\n",
       " 51680708854858323072,\n",
       " 83621143489848422977,\n",
       " 135301852344706746049,\n",
       " 218922995834555169026]"
      ]
     },
     "execution_count": 23,
     "metadata": {},
     "output_type": "execute_result"
    }
   ],
   "source": [
    "# One-liner \n",
    "# This is mostly for novelty... don't worry too much about understanding it\n",
    "n = 100\n",
    "(lambda n, fib=[0,1]: fib[:n]+[fib.append(fib[-1] + fib[-2]) or fib[-1] for i in range(n-len(fib))])(n)"
   ]
  },
  {
   "cell_type": "markdown",
   "metadata": {},
   "source": [
    "\n",
    "I wrote answers to most of these tasks here: ([answers](https://github.com/alexmill/techcamp_2017/blob/master/session1/beginner_answers.py)).\n",
    "\n",
    "If you have more downtime and want to dedicate some time to learning your language of choice, [here is a longer list of good programming challenges](https://adriann.github.io/programming_problems.html).\n",
    "\n",
    "\n",
    "\n",
    "\n",
    "\n",
    "## Intermediate: General Scripting\n",
    "\n",
    "### To start:\n",
    "\n",
    "Write a function that takes as input a `string` argument, and then counts the number of times each character occurs. \n",
    "- In R, the output of this function should be a *named vector* or a *data.frame*. \n",
    "    - Hint: use the `strsplit` function\n",
    "- In Python, this output should be a *dictionary*.\n",
    "\n",
    "Example input: `'aabbccc'`\n",
    "\n",
    "Example output for R:\n",
    "```\n",
    "a b c \n",
    "2 2 3\n",
    "```\n",
    "\n",
    "Example output for Python: \n",
    "```\n",
    "{'a':2, 'b': 2, 'c': 3}\n",
    "```\n"
   ]
  },
  {
   "cell_type": "code",
   "execution_count": 27,
   "metadata": {},
   "outputs": [
    {
     "data": {
      "text/plain": [
       "{'a': 2, 'b': 2, 'c': 3}"
      ]
     },
     "execution_count": 27,
     "metadata": {},
     "output_type": "execute_result"
    }
   ],
   "source": [
    "def count_letters(input_string):\n",
    "    output = {}\n",
    "    for letter in input_string:\n",
    "        # Check if we've already encountered this letter before\n",
    "        if letter in output.keys():\n",
    "            # If yes, just increment the value by 1\n",
    "            output[letter] = output[letter] + 1\n",
    "        else:\n",
    "            # If not, set the value for that letter to 1\n",
    "            output[letter] = 1\n",
    "    return(output)\n",
    "\n",
    "count_letters(\"aabbccc\")"
   ]
  },
  {
   "cell_type": "code",
   "execution_count": 31,
   "metadata": {},
   "outputs": [
    {
     "data": {
      "text/plain": [
       "{'a': 2, 'b': 2, 'c': 3}"
      ]
     },
     "execution_count": 31,
     "metadata": {},
     "output_type": "execute_result"
    }
   ],
   "source": [
    "# One-liner\n",
    "input_string = \"aabbccc\"\n",
    "{ letter: input_string.count(letter) for letter in  set(input_string) }"
   ]
  },
  {
   "cell_type": "code",
   "execution_count": null,
   "metadata": {},
   "outputs": [],
   "source": []
  },
  {
   "cell_type": "markdown",
   "metadata": {},
   "source": [
    "### Next Level:\n",
    "\n",
    "Consider a multi-line string like this:\n",
    "\n",
    "```\n",
    "XYYXX    \n",
    "XYZYY \n",
    "``` \n",
    "\n",
    "- **In R**: Perform the same task as above, except this time, create a data.frame that counts the number of characters occuring in *each row*.  Every row in your data.frame should correspond to a line in the file, and the columns represent the counts of the characters contained in each line. Your output should look like:\n",
    "\n",
    "```\n",
    "   X Y Z\n",
    "1  3 2 0\n",
    "2  1 3 1\n",
    "```\n",
    "\n",
    "- **In Python**: Construct a list of dictionaries containing the letter counts for each line in the string (i.e., each row is entry in the list, which is a dictionary containing the counts of each letter on that line). Your output should look like:\n",
    "\n",
    "```\n",
    "[\n",
    "    {\"X\": 3, \"Y\":2},\n",
    "    {\"X\": 1, \"Y\":3, \"Z\": 1}\n",
    "]\n",
    "```"
   ]
  },
  {
   "cell_type": "code",
   "execution_count": 35,
   "metadata": {},
   "outputs": [
    {
     "data": {
      "text/plain": [
       "[{'A': 1, 'B': 5, 'C': 1},\n",
       " {'X': 1, 'Y': 2},\n",
       " {'A': 1, 'N': 1, 'D': 3, 'J': 1, 'K': 2, 'L': 4}]"
      ]
     },
     "execution_count": 35,
     "metadata": {},
     "output_type": "execute_result"
    }
   ],
   "source": [
    "# We can build off our earlier work to do this efficiently:\n",
    "def count_letters_multiline(input_string):\n",
    "    # Convert the multi-line string into a list of single line strings\n",
    "    lines = input_string.strip().split(\"\\n\") \n",
    "    output = []\n",
    "    for line in lines:\n",
    "        line_count = count_letters(line)\n",
    "        output.append(line_count)\n",
    "    return(output)\n",
    "\n",
    "\n",
    "input_string = \"\"\"\n",
    "ABBBBBC\n",
    "XYY\n",
    "ANDJDKKDLLLL\n",
    "\"\"\"\n",
    "\n",
    "count_letters_multiline(input_string)"
   ]
  },
  {
   "cell_type": "code",
   "execution_count": 40,
   "metadata": {},
   "outputs": [
    {
     "data": {
      "text/plain": [
       "[{'A': 1, 'B': 5, 'C': 1},\n",
       " {'Y': 2, 'X': 1},\n",
       " {'N': 1, 'L': 4, 'D': 3, 'K': 2, 'J': 1, 'A': 1}]"
      ]
     },
     "execution_count": 40,
     "metadata": {},
     "output_type": "execute_result"
    }
   ],
   "source": [
    "# One-liner:\n",
    "[{ letter: line.count(letter) for letter in  set(line) } for line in input_string.strip().split('\\n') ]"
   ]
  },
  {
   "cell_type": "code",
   "execution_count": null,
   "metadata": {},
   "outputs": [],
   "source": []
  }
 ],
 "metadata": {
  "kernelspec": {
   "display_name": "Python 3",
   "language": "python",
   "name": "python3"
  },
  "language_info": {
   "codemirror_mode": {
    "name": "ipython",
    "version": 3
   },
   "file_extension": ".py",
   "mimetype": "text/x-python",
   "name": "python",
   "nbconvert_exporter": "python",
   "pygments_lexer": "ipython3",
   "version": "3.7.3"
  }
 },
 "nbformat": 4,
 "nbformat_minor": 2
}
