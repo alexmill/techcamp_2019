{
 "cells": [
  {
   "cell_type": "markdown",
   "metadata": {},
   "source": [
    "# Session 2 Exercises\n",
    "\n",
    "For these exercises, choose the lanuage you would like more familiarity with. Recall in Jupyter:\n",
    "- To execute a cell: Shift+Return\n",
    "- To execute a cell while adding a new cell below: Alt+Return\n",
    "\n",
    "## Basics in Python and R \n",
    "\n",
    "For beginners (of either language), I highly recommend working through a set of simple tasks that stretch your understanding of functions, inputs, lists, and iteration (i.e., for loops). Proceed through the following list of tasks:\n",
    "- Write a function that prints \"Hello, World!\"\n"
   ]
  },
  {
   "cell_type": "code",
   "execution_count": null,
   "metadata": {},
   "outputs": [],
   "source": []
  },
  {
   "cell_type": "markdown",
   "metadata": {},
   "source": [
    "- Write a function that takes the user's name as input and greets them by name."
   ]
  },
  {
   "cell_type": "code",
   "execution_count": null,
   "metadata": {},
   "outputs": [],
   "source": []
  },
  {
   "cell_type": "markdown",
   "metadata": {},
   "source": [
    "- Write a function that takes an input n and prints the sum of the numbers 1 to n."
   ]
  },
  {
   "cell_type": "code",
   "execution_count": null,
   "metadata": {},
   "outputs": [],
   "source": []
  },
  {
   "cell_type": "markdown",
   "metadata": {},
   "source": [
    "- Write a function that returns the largest element in a list."
   ]
  },
  {
   "cell_type": "code",
   "execution_count": null,
   "metadata": {},
   "outputs": [],
   "source": []
  },
  {
   "cell_type": "markdown",
   "metadata": {},
   "source": [
    "- Write a function that returns the elements on odd positions in a list."
   ]
  },
  {
   "cell_type": "code",
   "execution_count": null,
   "metadata": {},
   "outputs": [],
   "source": []
  },
  {
   "cell_type": "markdown",
   "metadata": {},
   "source": [
    "- Write a function that computes the list of the first 100 [Fibonacci numbers](https://en.wikipedia.org/wiki/Fibonacci_number) .\n",
    "\n"
   ]
  },
  {
   "cell_type": "code",
   "execution_count": null,
   "metadata": {},
   "outputs": [],
   "source": []
  },
  {
   "cell_type": "markdown",
   "metadata": {},
   "source": [
    "\n",
    "I wrote answers to most of these tasks here: ([answers](https://github.com/alexmill/techcamp_2017/blob/master/session1/beginner_answers.py)).\n",
    "\n",
    "If you have more downtime and want to dedicate some time to learning your language of choice, [here is a longer list of good programming challenges](https://adriann.github.io/programming_problems.html).\n",
    "\n",
    "\n",
    "\n",
    "\n",
    "\n",
    "## Intermediate: General Scripting\n",
    "\n",
    "### To start:\n",
    "\n",
    "Write a function that takes as input a `string` argument, and then counts the number of times each character occurs. \n",
    "- In R, the output of this function should be a *named vector* or a *data.frame*. \n",
    "    - Hint: use the `strsplit` function\n",
    "- In Python, this output should be a *dictionary*.\n",
    "\n",
    "Example input: `'aabbccc'`\n",
    "\n",
    "Example output for R:\n",
    "```\n",
    "a b c \n",
    "2 2 3\n",
    "```\n",
    "\n",
    "Example output for Python: \n",
    "```\n",
    "{'a':2, 'b': 2, 'c': 3}\n",
    "```\n"
   ]
  },
  {
   "cell_type": "code",
   "execution_count": null,
   "metadata": {},
   "outputs": [],
   "source": []
  },
  {
   "cell_type": "markdown",
   "metadata": {},
   "source": [
    "### Next Level:\n",
    "\n",
    "Consider a multi-line string like this:\n",
    "\n",
    "```\n",
    "XYYXX    \n",
    "XYZYY \n",
    "``` \n",
    "\n",
    "- **In R**: Perform the same task as above, except this time, create a data.frame that counts the number of characters occuring in *each row*.  Every row in your data.frame should correspond to a line in the file, and the columns represent the counts of the characters contained in each line. Your output should look like:\n",
    "\n",
    "```\n",
    "   X Y Z\n",
    "1  3 2 0\n",
    "2  1 3 1\n",
    "```\n",
    "\n",
    "- **In Python**: Construct a list of dictionaries containing the letter counts for each line in the string (i.e., each row is entry in the list, which is a dictionary containing the counts of each letter on that line). Your output should look like:\n",
    "\n",
    "```\n",
    "[\n",
    "    {\"X\": 3, \"Y\":2},\n",
    "    {\"X\": 1, \"Y\":3, \"Z\": 1}\n",
    "]\n",
    "```"
   ]
  },
  {
   "cell_type": "code",
   "execution_count": null,
   "metadata": {},
   "outputs": [],
   "source": []
  },
  {
   "cell_type": "code",
   "execution_count": null,
   "metadata": {},
   "outputs": [],
   "source": []
  }
 ],
 "metadata": {
  "kernelspec": {
   "display_name": "Python 3",
   "language": "python",
   "name": "python3"
  },
  "language_info": {
   "codemirror_mode": {
    "name": "ipython",
    "version": 3
   },
   "file_extension": ".py",
   "mimetype": "text/x-python",
   "name": "python",
   "nbconvert_exporter": "python",
   "pygments_lexer": "ipython3",
   "version": "3.7.3"
  }
 },
 "nbformat": 4,
 "nbformat_minor": 2
}
